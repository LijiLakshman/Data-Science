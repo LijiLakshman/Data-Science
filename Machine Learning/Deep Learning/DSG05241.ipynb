{
 "cells": [
  {
   "cell_type": "code",
   "execution_count": 3,
   "id": "b7daae87-53f1-490f-bc22-b169731b10da",
   "metadata": {},
   "outputs": [
    {
     "name": "stdout",
     "output_type": "stream",
     "text": [
      "Hello Data Science!\n"
     ]
    }
   ],
   "source": [
    "print(\"Hello Data Science!\")"
   ]
  },
  {
   "cell_type": "code",
   "execution_count": 2,
   "id": "fa1dd2b6-d0e0-4faa-8b62-cf83321bfd86",
   "metadata": {},
   "outputs": [
    {
     "name": "stdout",
     "output_type": "stream",
     "text": [
      "My Name is Liji\n"
     ]
    }
   ],
   "source": [
    "print(\"My Name is Liji\")"
   ]
  },
  {
   "cell_type": "code",
   "execution_count": 4,
   "id": "547246f4-9806-4321-ba9e-918961dbf155",
   "metadata": {},
   "outputs": [
    {
     "data": {
      "text/plain": [
       "50"
      ]
     },
     "execution_count": 4,
     "metadata": {},
     "output_type": "execute_result"
    }
   ],
   "source": [
    "24+26"
   ]
  },
  {
   "cell_type": "code",
   "execution_count": 5,
   "id": "b568f737-1c7c-4011-a9fd-74bbd362441d",
   "metadata": {},
   "outputs": [
    {
     "data": {
      "text/plain": [
       "5.0"
      ]
     },
     "execution_count": 5,
     "metadata": {},
     "output_type": "execute_result"
    }
   ],
   "source": [
    "25/5"
   ]
  },
  {
   "cell_type": "code",
   "execution_count": 6,
   "id": "12040cbc-6789-4c18-bce7-c4fee3816bd2",
   "metadata": {},
   "outputs": [
    {
     "data": {
      "text/plain": [
       "120"
      ]
     },
     "execution_count": 6,
     "metadata": {},
     "output_type": "execute_result"
    }
   ],
   "source": [
    "24*5"
   ]
  },
  {
   "cell_type": "markdown",
   "id": "40d3cebf-e880-4a94-abba-eaf503ffb2ed",
   "metadata": {},
   "source": [
    "print(\"Hello\")"
   ]
  },
  {
   "cell_type": "code",
   "execution_count": 17,
   "id": "8e21a048-d785-430b-ad79-4bbd03e6c3be",
   "metadata": {},
   "outputs": [
    {
     "name": "stdout",
     "output_type": "stream",
     "text": [
      "Hiiiiii\n"
     ]
    }
   ],
   "source": [
    "# fhfjgfdjgfvv\n",
    "print(\"Hiiiiii\")"
   ]
  },
  {
   "cell_type": "code",
   "execution_count": null,
   "id": "35bd2a3d-fdc4-463c-8492-40668e1d3119",
   "metadata": {},
   "outputs": [],
   "source": []
  }
 ],
 "metadata": {
  "kernelspec": {
   "display_name": "Python 3 (ipykernel)",
   "language": "python",
   "name": "python3"
  },
  "language_info": {
   "codemirror_mode": {
    "name": "ipython",
    "version": 3
   },
   "file_extension": ".py",
   "mimetype": "text/x-python",
   "name": "python",
   "nbconvert_exporter": "python",
   "pygments_lexer": "ipython3",
   "version": "3.11.7"
  }
 },
 "nbformat": 4,
 "nbformat_minor": 5
}
